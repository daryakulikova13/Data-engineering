{
 "cells": [
  {
   "cell_type": "markdown",
   "execution_count": null,
   "id": "ba2819c2-3b60-4530-8917-43b7edf5696c",
   "metadata": {},
   "outputs": [],
   "source": [
    "markdown\n",
    "\n",
    "# Домашнее задание №5\n",
    "## EDA-анализ: белки Pseudomonas aeruginosa\n",
    "### 1. Введение\n",
    "### Анализ биохимических характеристик белков бактерии Pseudomonas aeruginosa.\n",
    "### Цель: оценить качество данных и выявить основные закономерности."
   ]
  },
  {
   "cell_type": "code",
   "execution_count": null,
   "id": "b58cd226-f1d8-4369-b9a7-be93ac0fcb7e",
   "metadata": {},
   "outputs": [],
   "source": [
    "import pandas as pd\n",
    "import numpy as np\n",
    "import matplotlib.pyplot as plt\n",
    "\n",
    "print(\"=\" * 60)\n",
    "print(\"EDA-анализ: белки Pseudomonas aeruginosa\")\n",
    "print(\"=\" * 60)"
   ]
  }
 ],
 "metadata": {
  "kernelspec": {
   "display_name": "Python 3 (Spyder)",
   "language": "python3",
   "name": "python3"
  },
  "language_info": {
   "codemirror_mode": {
    "name": "ipython",
    "version": 3
   },
   "file_extension": ".py",
   "mimetype": "text/x-python",
   "name": "python",
   "nbconvert_exporter": "python",
   "pygments_lexer": "ipython3",
   "version": "3.12.2"
  }
 },
 "nbformat": 4,
 "nbformat_minor": 5
}
