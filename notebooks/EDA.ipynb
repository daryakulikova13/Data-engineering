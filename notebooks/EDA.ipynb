{
 "cells": [
  {
   "cell_type": "code",
   "execution_count": null,
   "id": "ba2819c2-3b60-4530-8917-43b7edf5696c",
   "metadata": {},
   "outputs": [],
   "source": [
    "# Домашнее задание №5\n",
    "## EDA-анализ: белки *Pseudomonas aeruginosa*\n",
    "### 1. Введение\n",
    "### Анализ биохимических характеристик белков бактерии Pseudomonas aeruginosa.\n",
    "### Цель: оценить качество данных и выявить основные закономерности.\n",
    "#### Загрузка основных библиотек"
   ]
  },
  {
   "cell_type": "code",
   "execution_count": null,
   "id": "b58cd226-f1d8-4369-b9a7-be93ac0fcb7e",
   "metadata": {},
   "outputs": [],
   "source": [
    "import pandas as pd\n",
    "import numpy as np\n",
    "import matplotlib.pyplot as plt"
   ]
  },
  {
   "cell_type": "code",
   "execution_count": null,
   "id": "d7a722b1-96ec-42df-988c-be09c32c94fa",
   "metadata": {},
   "outputs": [],
   "source": [
    "### 2. Загрузка датасета и первичный осмотр"
   ]
  },
  {
   "cell_type": "code",
   "execution_count": null,
   "id": "0f1c9d34-d8ce-4a24-8022-1da99f3a9da7",
   "metadata": {},
   "outputs": [],
   "source": [
    "data = pd.read_csv('/home/dasha/Desktop/Data-engineering_project/pseudomonas_aeruginosa.csv')  \n",
    "print(\"✅ Данные успешно загружены из 'pseudomonas_aeruginosa.csv'\")\n",
    "print(f\"📊 Размер датасета: {data.shape}\")\n",
    "print(f\"📊 Колонки: {list(data.columns)}\")"
   ]
  },
  {
   "cell_type": "code",
   "execution_count": null,
   "id": "5dc33da2-2326-4651-8300-b91a43dc3859",
   "metadata": {},
   "outputs": [],
   "source": [
    "### 3. Оценка структуры данных"
   ]
  },
  {
   "cell_type": "code",
   "execution_count": null,
   "id": "ada62fa2-75ca-428f-935a-3fb612c5dcf3",
   "metadata": {},
   "outputs": [],
   "source": [
    "print(\"\\nТипы данных:\")\n",
    "print(data.dtypes)\n",
    "\n",
    "print(\"\\nПервые 5 строк:\")\n",
    "print(data.head())"
   ]
  },
  {
   "cell_type": "code",
   "execution_count": null,
   "id": "7d392932-a31d-456b-98f3-c37075577efe",
   "metadata": {},
   "outputs": [],
   "source": [
    "### 4. Оценка целостности данных и полноты"
   ]
  },
  {
   "cell_type": "code",
   "execution_count": null,
   "id": "1f6c5167-a71b-4aa1-8186-4a203bc40579",
   "metadata": {},
   "outputs": [],
   "source": [
    "missing_data = data.isnull().sum()\n",
    "missing_percent = (missing_data / len(data)) * 100\n",
    "\n",
    "missing_info = pd.DataFrame({\n",
    "    'Пропусков': missing_data,\n",
    "    'Процент': missing_percent\n",
    "})\n",
    "\n",
    "print(\"Пропущенные значения:\")\n",
    "print(missing_info[missing_info['Пропусков'] > 0])\n",
    "\n",
    "if missing_data.sum() > 0:\n",
    "    plt.figure(figsize=(10, 4))\n",
    "    missing_data[missing_data > 0].plot(kind='bar', color='coral')\n",
    "    plt.title('Распределение пропущенных значений')\n",
    "    plt.ylabel('Количество пропусков')\n",
    "    plt.xticks(rotation=45)\n",
    "    plt.tight_layout() \n",
    "    plt.show()"
   ]
  },
  {
   "cell_type": "code",
   "execution_count": null,
   "id": "b5eba6b3-9fbd-4c36-86ea-5ad5b9ddd8c3",
   "metadata": {},
   "outputs": [],
   "source": [
    "### 5. Анализ выбросов и аномалий"
   ]
  },
  {
   "cell_type": "code",
   "execution_count": null,
   "id": "6e70b709-99cb-496d-8cd6-c6752a13762a",
   "metadata": {},
   "outputs": [],
   "source": [
    "numeric_cols = data.select_dtypes(include=[np.number]).columns\n",
    "\n",
    "if len(numeric_cols) > 0:\n",
    "    print(f\"Числовые колонки для анализа: {list(numeric_cols)}\")\n",
    "\n",
    "    print(\"\\n📈 Описательная статистика:\")\n",
    "    print(data[numeric_cols].describe())\n",
    "    \n",
    "    print(\"\\n🔍 Выбросы (по правилу 1.5*IQR):\")\n",
    "    for col in numeric_cols:\n",
    "        Q1 = data[col].quantile(0.25)\n",
    "        Q3 = data[col].quantile(0.75)\n",
    "        IQR = Q3 - Q1\n",
    "        lower_bound = Q1 - 1.5 * IQR\n",
    "        upper_bound = Q3 + 1.5 * IQR\n",
    "        \n",
    "        outliers = data[(data[col] < lower_bound) | (data[col] > upper_bound)]\n",
    "        print(f\"• {col}: {len(outliers)} выбросов ({len(outliers)/len(data)*100:.1f}%)\")\n",
    "\n",
    "    if len(numeric_cols) > 0:\n",
    "        fig, axes = plt.subplots(2, 2, figsize=(12, 8))\n",
    "        axes = axes.ravel()\n",
    "        \n",
    "        for i, col in enumerate(numeric_cols[:4]):\n",
    "            data[col].hist(bins=30, ax=axes[i], alpha=0.7, color='skyblue')\n",
    "            axes[i].set_title(f'Распределение {col}')\n",
    "            axes[i].set_xlabel(col)\n",
    "            axes[i].set_ylabel('Частота')\n",
    "        \n",
    "        plt.tight_layout()\n",
    "        plt.show()"
   ]
  },
  {
   "cell_type": "code",
   "execution_count": null,
   "id": "e02eccf9-5e84-4ed2-a392-fb81dfe5ba14",
   "metadata": {},
   "outputs": [],
   "source": [
    "### 6. Заключение и выводы"
   ]
  },
  {
   "cell_type": "code",
   "execution_count": null,
   "id": "ce26f2b4-cea4-49c9-915b-fd7b3ba97cdb",
   "metadata": {},
   "outputs": [],
   "source": [
    "print(f\"• Проанализировано {len(data)} белков\")\n",
    "print(f\"• Пропущенных значений: {missing_data.sum()} ✅\")\n",
    "print(f\"• Числовых характеристик: {len(numeric_cols)}\")\n",
    "print(f\"• Качество данных: ОТЛИЧНОЕ (полностью заполненный датасет)\")\n",
    "\n",
    "print(\"\\nРЕКОМЕНДАЦИИ:\")\n",
    "print(\"- Данные готовы для дальнейшего анализа\")\n",
    "if len(numeric_cols) > 0:\n",
    "    print(\"- Можно переходить к корреляционному анализу\")\n",
    "print(\"- Можно исследовать взаимосвязи между характеристиками белков\")"
   ]
  },
  {
   "cell_type": "code",
   "execution_count": null,
   "id": "deb9d86e-9a69-417b-b115-cb322ff6069c",
   "metadata": {},
   "outputs": [],
   "source": [
    "### Метрики по оценкам:\n",
    "# \n",
    "# **Оценка структуры:**\n",
    "# - Количество признаков: [автоматически из data.shape[1]]\n",
    "# - Типы данных: определены\n",
    "# \n",
    "# **Оценка целостности:**\n",
    "# - Пропущенные значения: 0 ✅\n",
    "# - Полнота данных: 100%\n",
    "# \n",
    "# **Оценка выбросов:**\n",
    "# - Процент выбросов по каждому признаку: рассчитан\n",
    "# - Визуализация распределений: предоставлена"
   ]
  }
 ],
 "metadata": {
  "kernelspec": {
   "display_name": "Python 3 (Spyder)",
   "language": "python3",
   "name": "python3"
  },
  "language_info": {
   "codemirror_mode": {
    "name": "ipython",
    "version": 3
   },
   "file_extension": ".py",
   "mimetype": "text/x-python",
   "name": "python",
   "nbconvert_exporter": "python",
   "pygments_lexer": "ipython3",
   "version": "3.12.2"
  }
 },
 "nbformat": 4,
 "nbformat_minor": 5
}
